{
  "nbformat": 4,
  "nbformat_minor": 0,
  "metadata": {
    "colab": {
      "provenance": [],
      "collapsed_sections": [
        "-76JhvF8no-O",
        "CSR9kO8ipnYu"
      ],
      "toc_visible": true,
      "authorship_tag": "ABX9TyPfkX7mB0j2dy8zszP71EEt",
      "include_colab_link": true
    },
    "kernelspec": {
      "name": "python3",
      "display_name": "Python 3"
    },
    "language_info": {
      "name": "python"
    }
  },
  "cells": [
    {
      "cell_type": "markdown",
      "metadata": {
        "id": "view-in-github",
        "colab_type": "text"
      },
      "source": [
        "<a href=\"https://colab.research.google.com/github/leanpina/EffectivePandas/blob/main/1_Series_Introduction.ipynb\" target=\"_parent\"><img src=\"https://colab.research.google.com/assets/colab-badge.svg\" alt=\"Open In Colab\"/></a>"
      ]
    },
    {
      "cell_type": "markdown",
      "source": [
        "# Introdução a Series"
      ],
      "metadata": {
        "id": "WQXa2aTTLJ_-"
      }
    },
    {
      "cell_type": "markdown",
      "source": [
        ">[Introdução a Series](#scrollTo=WQXa2aTTLJ_-)\n",
        "\n",
        ">[Geração de uma Serie em Puro Python](#scrollTo=EvwNGWUTZBmu)\n",
        "\n",
        ">[Atribuição de um indice do tipo 'string'](#scrollTo=8947pmHiZLlS)\n",
        "\n",
        ">>[Inspeção do indice de uma série](#scrollTo=dbPz_rUxU95O)\n",
        "\n",
        ">[Indice como uma string](#scrollTo=WqZ8lQnjYLp9)\n",
        "\n",
        ">>[Inspeção do Indice](#scrollTo=5MlS_xFYYkRV)\n",
        "\n",
        ">[Inserção de um tipo objeto na serie](#scrollTo=3AE4F_x8a-So)\n",
        "\n",
        ">[O valor NaN (Not a Number)](#scrollTo=bcWe0HCvWABq)\n",
        "\n",
        ">>[Integer que suporta NaN (Int64)](#scrollTo=5F-E6qSKi9yj)\n",
        "\n",
        ">[Similaridade com o NumPy](#scrollTo=-76JhvF8no-O)\n",
        "\n",
        ">>[Uso do array booleano](#scrollTo=CSR9kO8ipnYu)\n",
        "\n",
        ">[Dados Categóricos](#scrollTo=uGLt8dTWs8WH)\n",
        "\n",
        ">[Exercicios](#scrollTo=_EV1153SnABy)\n",
        "\n"
      ],
      "metadata": {
        "colab_type": "toc",
        "id": "kpM5ypXxLbVe"
      }
    },
    {
      "cell_type": "markdown",
      "source": [
        "#Geração de uma Serie em Puro Python"
      ],
      "metadata": {
        "id": "EvwNGWUTZBmu"
      }
    },
    {
      "cell_type": "code",
      "execution_count": null,
      "metadata": {
        "id": "VLdsO_OCOrqT"
      },
      "outputs": [],
      "source": [
        "series = {\n",
        "    'index':[0, 1, 2, 3],\n",
        "    'data':[145, 142, 38, 13],\n",
        "    'name':'songs'\n",
        "}"
      ]
    },
    {
      "cell_type": "code",
      "source": [
        "def get(series, idx):\n",
        "  value_idx = series['index'].index(idx)\n",
        "  return series['data'][value_idx]"
      ],
      "metadata": {
        "id": "zrfjblIhPNXe"
      },
      "execution_count": null,
      "outputs": []
    },
    {
      "cell_type": "code",
      "source": [
        "get(series, 2)"
      ],
      "metadata": {
        "colab": {
          "base_uri": "https://localhost:8080/"
        },
        "id": "JV_Ob9isQ6RH",
        "outputId": "30a2c224-2fd9-41a7-a7e4-ff6aff5a7ff9"
      },
      "execution_count": null,
      "outputs": [
        {
          "output_type": "execute_result",
          "data": {
            "text/plain": [
              "38"
            ]
          },
          "metadata": {},
          "execution_count": 3
        }
      ]
    },
    {
      "cell_type": "markdown",
      "source": [
        "#Atribuição de um indice do tipo 'string'"
      ],
      "metadata": {
        "id": "8947pmHiZLlS"
      }
    },
    {
      "cell_type": "code",
      "source": [
        "songs = {\n",
        "    'index':['Paul', 'John', 'George', 'Ringo'],\n",
        "    'data':[145, 142, 38, 13],\n",
        "    'name':'counts'\n",
        "    }"
      ],
      "metadata": {
        "id": "HIgrgr3DSKQu"
      },
      "execution_count": null,
      "outputs": []
    },
    {
      "cell_type": "code",
      "source": [
        "get(songs, 'John')"
      ],
      "metadata": {
        "colab": {
          "base_uri": "https://localhost:8080/"
        },
        "id": "f9eA6OXmS3vm",
        "outputId": "1bddf33b-f7e7-490f-ecde-0fd188478d18"
      },
      "execution_count": null,
      "outputs": [
        {
          "output_type": "execute_result",
          "data": {
            "text/plain": [
              "142"
            ]
          },
          "metadata": {},
          "execution_count": 5
        }
      ]
    },
    {
      "cell_type": "code",
      "source": [
        "import pandas as pd\n",
        "songs2 = pd.Series([145,142,38,13],\n",
        "                   name='counts')"
      ],
      "metadata": {
        "id": "_9_-RK7ATu02"
      },
      "execution_count": null,
      "outputs": []
    },
    {
      "cell_type": "code",
      "source": [
        "songs2"
      ],
      "metadata": {
        "colab": {
          "base_uri": "https://localhost:8080/"
        },
        "id": "r12Qc7Q-UJJm",
        "outputId": "32a01c14-d15b-4fe2-a915-8a0069cc461c"
      },
      "execution_count": null,
      "outputs": [
        {
          "output_type": "execute_result",
          "data": {
            "text/plain": [
              "0    145\n",
              "1    142\n",
              "2     38\n",
              "3     13\n",
              "Name: counts, dtype: int64"
            ]
          },
          "metadata": {},
          "execution_count": 7
        }
      ]
    },
    {
      "cell_type": "markdown",
      "source": [
        "##Inspeção do indice de uma série\n",
        "\n"
      ],
      "metadata": {
        "id": "dbPz_rUxU95O"
      }
    },
    {
      "cell_type": "code",
      "source": [
        "songs2.index"
      ],
      "metadata": {
        "colab": {
          "base_uri": "https://localhost:8080/"
        },
        "id": "scdyIqhlVPvN",
        "outputId": "43d50f4f-96f8-4d25-cff7-6b1ccc1376e4"
      },
      "execution_count": null,
      "outputs": [
        {
          "output_type": "execute_result",
          "data": {
            "text/plain": [
              "RangeIndex(start=0, stop=4, step=1)"
            ]
          },
          "metadata": {},
          "execution_count": 8
        }
      ]
    },
    {
      "cell_type": "markdown",
      "source": [
        "#Indice como uma string"
      ],
      "metadata": {
        "id": "WqZ8lQnjYLp9"
      }
    },
    {
      "cell_type": "code",
      "source": [
        "songs3 = pd.Series([145,142,38,13],\n",
        "                   name='counts',\n",
        "                   index=['Paul', 'John', 'George', 'Ringo'])"
      ],
      "metadata": {
        "id": "tSRuauh5W1S_"
      },
      "execution_count": null,
      "outputs": []
    },
    {
      "cell_type": "markdown",
      "source": [
        "## Inspeção do Indice"
      ],
      "metadata": {
        "id": "5MlS_xFYYkRV"
      }
    },
    {
      "cell_type": "code",
      "source": [
        "songs3.index"
      ],
      "metadata": {
        "colab": {
          "base_uri": "https://localhost:8080/"
        },
        "id": "LttOreIzX1FG",
        "outputId": "1c4eb166-e72f-4778-b7a6-81d3bb829b53"
      },
      "execution_count": null,
      "outputs": [
        {
          "output_type": "execute_result",
          "data": {
            "text/plain": [
              "Index(['Paul', 'John', 'George', 'Ringo'], dtype='object')"
            ]
          },
          "metadata": {},
          "execution_count": 10
        }
      ]
    },
    {
      "cell_type": "markdown",
      "source": [
        "#Inserção de um tipo objeto na serie"
      ],
      "metadata": {
        "id": "3AE4F_x8a-So"
      }
    },
    {
      "cell_type": "markdown",
      "source": [
        "- O datatype Object também aparece em series com valores de string\n",
        "- Indices com valores numericos ou datatime possibilitam operações "
      ],
      "metadata": {
        "id": "x-eIygBVU2j9"
      }
    },
    {
      "cell_type": "code",
      "source": [
        "class Foo:\n",
        "  pass"
      ],
      "metadata": {
        "id": "W5vMrI1CX4gF"
      },
      "execution_count": null,
      "outputs": []
    },
    {
      "cell_type": "code",
      "source": [
        "ringo = pd.Series(['Richard', 'Starkey', 13, Foo()],\n",
        "                  name='ringo')"
      ],
      "metadata": {
        "id": "_v6bdlTtbX94"
      },
      "execution_count": null,
      "outputs": []
    },
    {
      "cell_type": "code",
      "source": [
        "ringo"
      ],
      "metadata": {
        "id": "cAQXIfpwcGu7",
        "outputId": "e7fe0550-e558-4588-e086-331a97b4534b",
        "colab": {
          "base_uri": "https://localhost:8080/"
        }
      },
      "execution_count": null,
      "outputs": [
        {
          "output_type": "execute_result",
          "data": {
            "text/plain": [
              "0                                    Richard\n",
              "1                                    Starkey\n",
              "2                                         13\n",
              "3    <__main__.Foo object at 0x7f2ab574f2d0>\n",
              "Name: ringo, dtype: object"
            ]
          },
          "metadata": {},
          "execution_count": 13
        }
      ]
    },
    {
      "cell_type": "markdown",
      "source": [
        "# O valor NaN (Not a Number)"
      ],
      "metadata": {
        "id": "bcWe0HCvWABq"
      }
    },
    {
      "cell_type": "markdown",
      "source": [
        "When pandas\n",
        "determines that a series holds numeric values but cannot find a number to represent an entry\n",
        "- float64 suporta NaN\n",
        "- NaN, None, nan, <NA> são sinônimos"
      ],
      "metadata": {
        "id": "hKefB2L0WMU7"
      }
    },
    {
      "cell_type": "code",
      "source": [
        "import numpy as np\n",
        "nan_series = pd.Series([2, np.nan],\n",
        "                       index=['Ono', 'Clapton'])\n",
        "nan_series"
      ],
      "metadata": {
        "colab": {
          "base_uri": "https://localhost:8080/"
        },
        "id": "BeyqFo0NV_CU",
        "outputId": "4f462078-f957-458a-a106-f145bcd43b56"
      },
      "execution_count": null,
      "outputs": [
        {
          "output_type": "execute_result",
          "data": {
            "text/plain": [
              "Ono        2.0\n",
              "Clapton    NaN\n",
              "dtype: float64"
            ]
          },
          "metadata": {},
          "execution_count": 14
        }
      ]
    },
    {
      "cell_type": "code",
      "source": [
        "nan_series.count()"
      ],
      "metadata": {
        "colab": {
          "base_uri": "https://localhost:8080/"
        },
        "id": "GmYgw4n2XJcm",
        "outputId": "f089145c-6143-43f9-d440-17be0bc729f7"
      },
      "execution_count": null,
      "outputs": [
        {
          "output_type": "execute_result",
          "data": {
            "text/plain": [
              "1"
            ]
          },
          "metadata": {},
          "execution_count": 15
        }
      ]
    },
    {
      "cell_type": "code",
      "source": [
        "nan_series.size"
      ],
      "metadata": {
        "colab": {
          "base_uri": "https://localhost:8080/"
        },
        "id": "xhGzGqvSicPi",
        "outputId": "2d8fbf35-ede4-42b2-db49-21ab21ab7d44"
      },
      "execution_count": null,
      "outputs": [
        {
          "output_type": "execute_result",
          "data": {
            "text/plain": [
              "2"
            ]
          },
          "metadata": {},
          "execution_count": 16
        }
      ]
    },
    {
      "cell_type": "markdown",
      "source": [
        "##Integer que suporta NaN (Int64)"
      ],
      "metadata": {
        "id": "5F-E6qSKi9yj"
      }
    },
    {
      "cell_type": "markdown",
      "source": [
        "Int64 (I maisculo) - Apartir do pandas 0.24\n",
        "\n",
        "Repare que a serie abaixo tem como tipo o datype Int64"
      ],
      "metadata": {
        "id": "iMIPTmmHkCBS"
      }
    },
    {
      "cell_type": "code",
      "source": [
        "nan_series2 = pd.Series([2, None],\n",
        "                        index=['Ono', 'Clapton'],\n",
        "                        dtype='Int64')"
      ],
      "metadata": {
        "id": "or2T-luEikeZ"
      },
      "execution_count": null,
      "outputs": []
    },
    {
      "cell_type": "code",
      "source": [
        "nan_series2"
      ],
      "metadata": {
        "colab": {
          "base_uri": "https://localhost:8080/"
        },
        "id": "tAgy7nGYjvh-",
        "outputId": "6d8c114c-8bfd-4e3f-bb0c-d4d72ad70312"
      },
      "execution_count": null,
      "outputs": [
        {
          "output_type": "execute_result",
          "data": {
            "text/plain": [
              "Ono           2\n",
              "Clapton    <NA>\n",
              "dtype: Int64"
            ]
          },
          "metadata": {},
          "execution_count": 18
        }
      ]
    },
    {
      "cell_type": "code",
      "source": [
        "nan_series2.count()"
      ],
      "metadata": {
        "colab": {
          "base_uri": "https://localhost:8080/"
        },
        "id": "pnl3FKl4j9uJ",
        "outputId": "8ce03330-bbd7-475a-fba2-e59dee95507f"
      },
      "execution_count": null,
      "outputs": [
        {
          "output_type": "execute_result",
          "data": {
            "text/plain": [
              "1"
            ]
          },
          "metadata": {},
          "execution_count": 19
        }
      ]
    },
    {
      "cell_type": "markdown",
      "source": [
        "Podemos converter o datatype de uma série com o método .astype"
      ],
      "metadata": {
        "id": "WTLSRuaQloew"
      }
    },
    {
      "cell_type": "code",
      "source": [
        "nan_series.astype('Int64')"
      ],
      "metadata": {
        "colab": {
          "base_uri": "https://localhost:8080/"
        },
        "id": "yRvFrUr9kyRg",
        "outputId": "f52e9390-2757-4b54-d09b-7338645b7d27"
      },
      "execution_count": null,
      "outputs": [
        {
          "output_type": "execute_result",
          "data": {
            "text/plain": [
              "Ono           2\n",
              "Clapton    <NA>\n",
              "dtype: Int64"
            ]
          },
          "metadata": {},
          "execution_count": 20
        }
      ]
    },
    {
      "cell_type": "markdown",
      "source": [
        "#Similaridade com o NumPy"
      ],
      "metadata": {
        "id": "-76JhvF8no-O"
      }
    },
    {
      "cell_type": "markdown",
      "source": [
        "- Objeto Serie =  Array do Numpy"
      ],
      "metadata": {
        "id": "7QLzf3SGn0PP"
      }
    },
    {
      "cell_type": "code",
      "source": [
        "import numpy as np\n",
        "numpy_ser = np.array([145, 142, 38, 13])"
      ],
      "metadata": {
        "id": "h8Ps1y7nnvhJ"
      },
      "execution_count": null,
      "outputs": []
    },
    {
      "cell_type": "code",
      "source": [
        "songs3[1]"
      ],
      "metadata": {
        "colab": {
          "base_uri": "https://localhost:8080/"
        },
        "id": "8asjFSPPoYpn",
        "outputId": "7d3399db-abea-4f98-aafe-409cb9c445e4"
      },
      "execution_count": null,
      "outputs": [
        {
          "output_type": "execute_result",
          "data": {
            "text/plain": [
              "142"
            ]
          },
          "metadata": {},
          "execution_count": 22
        }
      ]
    },
    {
      "cell_type": "code",
      "source": [
        "numpy_ser[1]"
      ],
      "metadata": {
        "colab": {
          "base_uri": "https://localhost:8080/"
        },
        "id": "1Ya2WtXiobpF",
        "outputId": "0f65de0a-47fe-4e46-ffd6-00cccf97e0e9"
      },
      "execution_count": null,
      "outputs": [
        {
          "output_type": "execute_result",
          "data": {
            "text/plain": [
              "142"
            ]
          },
          "metadata": {},
          "execution_count": 23
        }
      ]
    },
    {
      "cell_type": "code",
      "source": [
        "songs3.mean()"
      ],
      "metadata": {
        "colab": {
          "base_uri": "https://localhost:8080/"
        },
        "id": "0geoEBNjoeTW",
        "outputId": "8e2bc24a-c45e-42e9-9037-9e2291fca96a"
      },
      "execution_count": null,
      "outputs": [
        {
          "output_type": "execute_result",
          "data": {
            "text/plain": [
              "84.5"
            ]
          },
          "metadata": {},
          "execution_count": 24
        }
      ]
    },
    {
      "cell_type": "code",
      "source": [
        "numpy_ser.mean()"
      ],
      "metadata": {
        "colab": {
          "base_uri": "https://localhost:8080/"
        },
        "id": "81C648Xrooql",
        "outputId": "f527a3ea-53a3-4c65-b03c-34bfdf3af001"
      },
      "execution_count": null,
      "outputs": [
        {
          "output_type": "execute_result",
          "data": {
            "text/plain": [
              "84.5"
            ]
          },
          "metadata": {},
          "execution_count": 25
        }
      ]
    },
    {
      "cell_type": "markdown",
      "source": [
        "![image.png](data:image/png;base64,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)"
      ],
      "metadata": {
        "id": "zNqnb-H8pEWO"
      }
    },
    {
      "cell_type": "markdown",
      "source": [
        "##Uso do array booleano "
      ],
      "metadata": {
        "id": "CSR9kO8ipnYu"
      }
    },
    {
      "cell_type": "markdown",
      "source": [
        "Serie de valores booleanos com o mesmo indice da série que estamos trabalhando"
      ],
      "metadata": {
        "id": "GsqvKle7p7bI"
      }
    },
    {
      "cell_type": "code",
      "source": [
        "mask = songs3 > songs3.median() # Boolean array"
      ],
      "metadata": {
        "id": "I8Guoys6o3DW"
      },
      "execution_count": null,
      "outputs": []
    },
    {
      "cell_type": "code",
      "source": [
        "mask"
      ],
      "metadata": {
        "colab": {
          "base_uri": "https://localhost:8080/"
        },
        "id": "EtSfPfcjqjqG",
        "outputId": "0ee79bac-4689-4964-f280-31e6200db3fc"
      },
      "execution_count": null,
      "outputs": [
        {
          "output_type": "execute_result",
          "data": {
            "text/plain": [
              "Paul       True\n",
              "John       True\n",
              "George    False\n",
              "Ringo     False\n",
              "Name: counts, dtype: bool"
            ]
          },
          "metadata": {},
          "execution_count": 27
        }
      ]
    },
    {
      "cell_type": "markdown",
      "source": [
        "Uso do array de boleanos, como um **filtro**. Passamos a mascara dentro da operação de indice"
      ],
      "metadata": {
        "id": "6wU4VKztq76U"
      }
    },
    {
      "cell_type": "code",
      "source": [
        "songs3[mask]"
      ],
      "metadata": {
        "colab": {
          "base_uri": "https://localhost:8080/"
        },
        "id": "7Pb93G3bqx8j",
        "outputId": "e31b1fe9-992d-49dd-9f02-29734ee6a0db"
      },
      "execution_count": null,
      "outputs": [
        {
          "output_type": "execute_result",
          "data": {
            "text/plain": [
              "Paul    145\n",
              "John    142\n",
              "Name: counts, dtype: int64"
            ]
          },
          "metadata": {},
          "execution_count": 28
        }
      ]
    },
    {
      "cell_type": "markdown",
      "source": [
        "O **Numpy** não possui um método para mediana e sim uma função. Portanto o equivalente seria:"
      ],
      "metadata": {
        "id": "Mc0lTQhgsIFN"
      }
    },
    {
      "cell_type": "code",
      "source": [
        "numpy_ser[numpy_ser > np.median(numpy_ser)]"
      ],
      "metadata": {
        "colab": {
          "base_uri": "https://localhost:8080/"
        },
        "id": "LLOIDQRorVOk",
        "outputId": "c5386de5-8e0b-4b2d-ebf9-37175d3e8bca"
      },
      "execution_count": null,
      "outputs": [
        {
          "output_type": "execute_result",
          "data": {
            "text/plain": [
              "array([145, 142])"
            ]
          },
          "metadata": {},
          "execution_count": 29
        }
      ]
    },
    {
      "cell_type": "markdown",
      "source": [
        "#Dados Categóricos"
      ],
      "metadata": {
        "id": "uGLt8dTWs8WH"
      }
    },
    {
      "cell_type": "code",
      "source": [
        "s = pd.Series(['m', 'l', 'xs', 's', 'xl'], dtype='category')"
      ],
      "metadata": {
        "id": "swMchemEs3Za"
      },
      "execution_count": null,
      "outputs": []
    },
    {
      "cell_type": "code",
      "source": [
        "s"
      ],
      "metadata": {
        "colab": {
          "base_uri": "https://localhost:8080/"
        },
        "id": "kCKr6dktsZW0",
        "outputId": "830930b1-91d3-4d10-8251-56cb4a9e324a"
      },
      "execution_count": null,
      "outputs": [
        {
          "output_type": "execute_result",
          "data": {
            "text/plain": [
              "0     m\n",
              "1     l\n",
              "2    xs\n",
              "3     s\n",
              "4    xl\n",
              "dtype: category\n",
              "Categories (5, object): ['l', 'm', 's', 'xl', 'xs']"
            ]
          },
          "metadata": {},
          "execution_count": 31
        }
      ]
    },
    {
      "cell_type": "markdown",
      "source": [
        "Por default uma série do tipo categoria não possue ordenação. Como pode ser visto abaixo:"
      ],
      "metadata": {
        "id": "f-42HxB3wVOP"
      }
    },
    {
      "cell_type": "code",
      "source": [
        "s.cat.ordered"
      ],
      "metadata": {
        "colab": {
          "base_uri": "https://localhost:8080/"
        },
        "id": "QC999wI2wUex",
        "outputId": "2987677d-6ff6-4653-c43b-bb87fe34c238"
      },
      "execution_count": null,
      "outputs": [
        {
          "output_type": "execute_result",
          "data": {
            "text/plain": [
              "False"
            ]
          },
          "metadata": {},
          "execution_count": 32
        }
      ]
    },
    {
      "cell_type": "markdown",
      "source": [
        "Porém se a série representa uma classificação a qual temos uma ordem,  podemos converter uma série não-categórica em uma serie categórica ordenada criando um novo tipo com o uso do `CategoricalDType`"
      ],
      "metadata": {
        "id": "DBC7wfAxw2nJ"
      }
    },
    {
      "cell_type": "code",
      "source": [
        "s2 = pd.Series(['m', 'l', 'xs', 's', 'xl'])\n",
        "\n",
        "size_type = pd.api.types.CategoricalDtype(\n",
        "    categories=['s', 'm', 'l'], ordered=True)\n",
        "\n",
        "s3 = s2.astype(size_type)\n",
        "s3"
      ],
      "metadata": {
        "colab": {
          "base_uri": "https://localhost:8080/"
        },
        "id": "f2RHGsNWwNUg",
        "outputId": "cdfcdd1e-b12f-40b8-d87f-6ddb44fd1a87"
      },
      "execution_count": null,
      "outputs": [
        {
          "output_type": "execute_result",
          "data": {
            "text/plain": [
              "0      m\n",
              "1      l\n",
              "2    NaN\n",
              "3      s\n",
              "4    NaN\n",
              "dtype: category\n",
              "Categories (3, object): ['s' < 'm' < 'l']"
            ]
          },
          "metadata": {},
          "execution_count": 33
        }
      ]
    },
    {
      "cell_type": "code",
      "source": [
        "s3 > 's'"
      ],
      "metadata": {
        "id": "WzFbzPoHzSKm",
        "colab": {
          "base_uri": "https://localhost:8080/"
        },
        "outputId": "4b643b44-a6ed-4ff2-879d-ee75e78e042b"
      },
      "execution_count": null,
      "outputs": [
        {
          "output_type": "execute_result",
          "data": {
            "text/plain": [
              "0     True\n",
              "1     True\n",
              "2    False\n",
              "3    False\n",
              "4    False\n",
              "dtype: bool"
            ]
          },
          "metadata": {},
          "execution_count": 36
        }
      ]
    },
    {
      "cell_type": "code",
      "source": [
        "s.cat.reorder_categories(['xs', 's', 'm', 'l', 'xl'],\n",
        "                         ordered=True)"
      ],
      "metadata": {
        "colab": {
          "base_uri": "https://localhost:8080/"
        },
        "id": "BS16pIY1h1ZM",
        "outputId": "d8f9bd5f-5cc6-4b11-d00f-8c8a05c9bf56"
      },
      "execution_count": null,
      "outputs": [
        {
          "output_type": "execute_result",
          "data": {
            "text/plain": [
              "0     m\n",
              "1     l\n",
              "2    xs\n",
              "3     s\n",
              "4    xl\n",
              "dtype: category\n",
              "Categories (5, object): ['xs' < 's' < 'm' < 'l' < 'xl']"
            ]
          },
          "metadata": {},
          "execution_count": 38
        }
      ]
    },
    {
      "cell_type": "code",
      "source": [
        "s3.index"
      ],
      "metadata": {
        "id": "AWaoujDTiFE1",
        "colab": {
          "base_uri": "https://localhost:8080/"
        },
        "outputId": "ed3a74df-e6d4-4905-c2cd-161758411c28"
      },
      "execution_count": null,
      "outputs": [
        {
          "output_type": "execute_result",
          "data": {
            "text/plain": [
              "RangeIndex(start=0, stop=5, step=1)"
            ]
          },
          "metadata": {},
          "execution_count": 41
        }
      ]
    },
    {
      "cell_type": "markdown",
      "source": [
        "#***Exercicios***\n",
        "\n",
        "---\n",
        "\n"
      ],
      "metadata": {
        "id": "_EV1153SnABy"
      }
    },
    {
      "cell_type": "markdown",
      "source": [
        "1. Create a series with the temperature values for the last seven days. \n",
        "Filter out the values below the mean."
      ],
      "metadata": {
        "id": "9itzgu_inS_n"
      }
    },
    {
      "cell_type": "code",
      "source": [
        "temp = pd.Series([32, 30, 28, 27, 22, 21, 24],\n",
        "                 index=['day7', 'day6', 'day5', 'day4', 'day3', 'day2', 'day1' ])"
      ],
      "metadata": {
        "id": "J7fpdeegndsf"
      },
      "execution_count": null,
      "outputs": []
    },
    {
      "cell_type": "code",
      "source": [
        "temp"
      ],
      "metadata": {
        "colab": {
          "base_uri": "https://localhost:8080/"
        },
        "id": "uYrBeY2_opUv",
        "outputId": "58ee726c-4f2e-499d-f089-5ccd2295b219"
      },
      "execution_count": null,
      "outputs": [
        {
          "output_type": "execute_result",
          "data": {
            "text/plain": [
              "day7    32\n",
              "day6    30\n",
              "day5    28\n",
              "day4    27\n",
              "day3    22\n",
              "day2    21\n",
              "day1    24\n",
              "dtype: int64"
            ]
          },
          "metadata": {},
          "execution_count": 45
        }
      ]
    },
    {
      "cell_type": "code",
      "source": [
        "mask = temp < temp.mean()\n",
        "mask"
      ],
      "metadata": {
        "colab": {
          "base_uri": "https://localhost:8080/"
        },
        "id": "_rtYVAOUorLf",
        "outputId": "c2939e86-73ab-4635-e893-509c8bc821ad"
      },
      "execution_count": null,
      "outputs": [
        {
          "output_type": "execute_result",
          "data": {
            "text/plain": [
              "day7    False\n",
              "day6    False\n",
              "day5    False\n",
              "day4    False\n",
              "day3     True\n",
              "day2     True\n",
              "day1     True\n",
              "dtype: bool"
            ]
          },
          "metadata": {},
          "execution_count": 50
        }
      ]
    },
    {
      "cell_type": "code",
      "source": [
        "temp[temp < temp.mean()]"
      ],
      "metadata": {
        "colab": {
          "base_uri": "https://localhost:8080/"
        },
        "id": "27x5kbA8pnJf",
        "outputId": "45c4164c-93d8-4773-d13f-b426d8b2b9de"
      },
      "execution_count": null,
      "outputs": [
        {
          "output_type": "execute_result",
          "data": {
            "text/plain": [
              "day3    22\n",
              "day2    21\n",
              "day1    24\n",
              "dtype: int64"
            ]
          },
          "metadata": {},
          "execution_count": 52
        }
      ]
    },
    {
      "cell_type": "markdown",
      "source": [
        "2. Create a series with your favorite colors. Use a categorical type."
      ],
      "metadata": {
        "id": "PxAGQXJaq8Et"
      }
    },
    {
      "cell_type": "code",
      "source": [
        "colour = pd.Series([\"Azul\", \"Verde\", \"Amarelo\"], dtype='category')\n",
        "colour"
      ],
      "metadata": {
        "colab": {
          "base_uri": "https://localhost:8080/"
        },
        "id": "FxnkxbATrEaE",
        "outputId": "356865de-d491-4e69-b3e2-9cb34bb56166"
      },
      "execution_count": null,
      "outputs": [
        {
          "output_type": "execute_result",
          "data": {
            "text/plain": [
              "0       Azul\n",
              "1      Verde\n",
              "2    Amarelo\n",
              "dtype: category\n",
              "Categories (3, object): ['Amarelo', 'Azul', 'Verde']"
            ]
          },
          "metadata": {},
          "execution_count": 55
        }
      ]
    }
  ]
}